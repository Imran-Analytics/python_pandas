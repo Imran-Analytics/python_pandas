{
 "cells": [
  {
   "cell_type": "code",
   "execution_count": 10,
   "id": "5deb467d-ef66-42a4-a4d6-c6d1ba65740f",
   "metadata": {},
   "outputs": [],
   "source": [
    "#import pandas as pd\n",
    "#df = pd.read_csv(r'C:\\Users\\imran\\Desktop\\MyData\\Python\\pokemon_data.csv')\n",
    "#print(df.head(5))"
   ]
  },
  {
   "cell_type": "code",
   "execution_count": 40,
   "id": "8a26c18d-dee7-4ae8-9932-73cc4a6ba143",
   "metadata": {},
   "outputs": [
    {
     "name": "stdout",
     "output_type": "stream",
     "text": [
      "45\n"
     ]
    }
   ],
   "source": [
    "#print(df.head(5))\n",
    "#for x in df:\n",
    "#   print(x)\n",
    "\n",
    "# to find exact location or complete row / Column\n",
    "#print(df.loc[0 , 'Speed'])\n",
    "#print(df.loc[: , 'Speed'])"
   ]
  },
  {
   "cell_type": "code",
   "execution_count": 48,
   "id": "df2daeac-f5f9-4388-9943-9a16e6066da2",
   "metadata": {},
   "outputs": [],
   "source": [
    "\n",
    "# it takes Boolean as well - First enter row value as booleand and all columns as ':'\n",
    "#df.loc[(df.HP)>60, :]"
   ]
  },
  {
   "cell_type": "code",
   "execution_count": 87,
   "id": "e027f121-0348-4642-b128-3f916c7b4b92",
   "metadata": {},
   "outputs": [
    {
     "data": {
      "text/html": [
       "<div>\n",
       "<style scoped>\n",
       "    .dataframe tbody tr th:only-of-type {\n",
       "        vertical-align: middle;\n",
       "    }\n",
       "\n",
       "    .dataframe tbody tr th {\n",
       "        vertical-align: top;\n",
       "    }\n",
       "\n",
       "    .dataframe thead th {\n",
       "        text-align: right;\n",
       "    }\n",
       "</style>\n",
       "<table border=\"1\" class=\"dataframe\">\n",
       "  <thead>\n",
       "    <tr style=\"text-align: right;\">\n",
       "      <th></th>\n",
       "      <th>#</th>\n",
       "      <th>Name</th>\n",
       "      <th>Type 1</th>\n",
       "      <th>Type 2</th>\n",
       "      <th>HP</th>\n",
       "      <th>Attack</th>\n",
       "      <th>Defense</th>\n",
       "      <th>Sp. Atk</th>\n",
       "      <th>Sp. Def</th>\n",
       "      <th>Speed</th>\n",
       "      <th>Generation</th>\n",
       "      <th>Legendary</th>\n",
       "      <th>Total</th>\n",
       "    </tr>\n",
       "  </thead>\n",
       "  <tbody>\n",
       "    <tr>\n",
       "      <th>0</th>\n",
       "      <td>1</td>\n",
       "      <td>Bulbasaur</td>\n",
       "      <td>Grass</td>\n",
       "      <td>Poison</td>\n",
       "      <td>45</td>\n",
       "      <td>49</td>\n",
       "      <td>49</td>\n",
       "      <td>65</td>\n",
       "      <td>65</td>\n",
       "      <td>45</td>\n",
       "      <td>1</td>\n",
       "      <td>False</td>\n",
       "      <td>318</td>\n",
       "    </tr>\n",
       "    <tr>\n",
       "      <th>1</th>\n",
       "      <td>2</td>\n",
       "      <td>Ivysaur</td>\n",
       "      <td>Grass</td>\n",
       "      <td>Poison</td>\n",
       "      <td>60</td>\n",
       "      <td>62</td>\n",
       "      <td>63</td>\n",
       "      <td>80</td>\n",
       "      <td>80</td>\n",
       "      <td>60</td>\n",
       "      <td>1</td>\n",
       "      <td>False</td>\n",
       "      <td>405</td>\n",
       "    </tr>\n",
       "    <tr>\n",
       "      <th>2</th>\n",
       "      <td>3</td>\n",
       "      <td>Venusaur</td>\n",
       "      <td>Grass</td>\n",
       "      <td>Poison</td>\n",
       "      <td>80</td>\n",
       "      <td>82</td>\n",
       "      <td>83</td>\n",
       "      <td>100</td>\n",
       "      <td>100</td>\n",
       "      <td>80</td>\n",
       "      <td>1</td>\n",
       "      <td>False</td>\n",
       "      <td>525</td>\n",
       "    </tr>\n",
       "    <tr>\n",
       "      <th>3</th>\n",
       "      <td>3</td>\n",
       "      <td>VenusaurMega Venusaur</td>\n",
       "      <td>Grass</td>\n",
       "      <td>Poison</td>\n",
       "      <td>80</td>\n",
       "      <td>100</td>\n",
       "      <td>123</td>\n",
       "      <td>122</td>\n",
       "      <td>120</td>\n",
       "      <td>80</td>\n",
       "      <td>1</td>\n",
       "      <td>False</td>\n",
       "      <td>625</td>\n",
       "    </tr>\n",
       "    <tr>\n",
       "      <th>4</th>\n",
       "      <td>4</td>\n",
       "      <td>Charmander</td>\n",
       "      <td>Fire</td>\n",
       "      <td>NaN</td>\n",
       "      <td>39</td>\n",
       "      <td>52</td>\n",
       "      <td>43</td>\n",
       "      <td>60</td>\n",
       "      <td>50</td>\n",
       "      <td>65</td>\n",
       "      <td>1</td>\n",
       "      <td>False</td>\n",
       "      <td>309</td>\n",
       "    </tr>\n",
       "  </tbody>\n",
       "</table>\n",
       "</div>"
      ],
      "text/plain": [
       "   #                   Name Type 1  Type 2  HP  Attack  Defense  Sp. Atk  \\\n",
       "0  1              Bulbasaur  Grass  Poison  45      49       49       65   \n",
       "1  2                Ivysaur  Grass  Poison  60      62       63       80   \n",
       "2  3               Venusaur  Grass  Poison  80      82       83      100   \n",
       "3  3  VenusaurMega Venusaur  Grass  Poison  80     100      123      122   \n",
       "4  4             Charmander   Fire     NaN  39      52       43       60   \n",
       "\n",
       "   Sp. Def  Speed  Generation  Legendary  Total  \n",
       "0       65     45           1      False    318  \n",
       "1       80     60           1      False    405  \n",
       "2      100     80           1      False    525  \n",
       "3      120     80           1      False    625  \n",
       "4       50     65           1      False    309  "
      ]
     },
     "execution_count": 87,
     "metadata": {},
     "output_type": "execute_result"
    }
   ],
   "source": [
    "#df.head(5)\n",
    "\n",
    "# adding rows:\n",
    "#df['Total'] = df.iloc[:, 4:10].sum(axis=1)\n",
    "\n",
    "#droping Columns and updating the same to main data frame df:\n",
    "#df = df.drop(columns=['total'])\n"
   ]
  },
  {
   "cell_type": "code",
   "execution_count": 99,
   "id": "55955652-f15e-48d8-a9d1-02ff2aa6d8b6",
   "metadata": {},
   "outputs": [
    {
     "name": "stdout",
     "output_type": "stream",
     "text": [
      "   #                   Name Type 1  Type 2  Legendary  Total  HP  Attack  \\\n",
      "0  1              Bulbasaur  Grass  Poison      False    318  45      49   \n",
      "1  2                Ivysaur  Grass  Poison      False    405  60      62   \n",
      "2  3               Venusaur  Grass  Poison      False    525  80      82   \n",
      "3  3  VenusaurMega Venusaur  Grass  Poison      False    625  80     100   \n",
      "4  4             Charmander   Fire     NaN      False    309  39      52   \n",
      "\n",
      "   Defense  Sp. Atk  Sp. Def  Speed  Generation  \n",
      "0       49       65       65     45           1  \n",
      "1       63       80       80     60           1  \n",
      "2       83      100      100     80           1  \n",
      "3      123      122      120     80           1  \n",
      "4       43       60       50     65           1  \n"
     ]
    }
   ],
   "source": [
    "#Save the columns values in variable 'cols' and then rearrange the columns as required:\n",
    "#cols = list(df.columns.values)\n",
    "#df= df[cols[0:4]+[cols[-1]]+cols[4:12]]\n",
    "#print (df.head(5))\n"
   ]
  },
  {
   "cell_type": "code",
   "execution_count": 111,
   "id": "d3b68a04-2327-4b20-a679-7ae593d165fc",
   "metadata": {},
   "outputs": [
    {
     "name": "stdout",
     "output_type": "stream",
     "text": [
      "       #                   Name   Type 1  Type 2  Legendary  Total  HP  \\\n",
      "0      1              Bulbasaur    Grass  Poison      False    318  45   \n",
      "1      2                Ivysaur    Grass  Poison      False    405  60   \n",
      "2      3               Venusaur    Grass  Poison      False    525  80   \n",
      "3      3  VenusaurMega Venusaur    Grass  Poison      False    625  80   \n",
      "4      4             Charmander     Fire     NaN      False    309  39   \n",
      "..   ...                    ...      ...     ...        ...    ...  ..   \n",
      "795  719                Diancie     Rock   Fairy       True    600  50   \n",
      "796  719    DiancieMega Diancie     Rock   Fairy       True    700  50   \n",
      "797  720    HoopaHoopa Confined  Psychic   Ghost       True    600  80   \n",
      "798  720     HoopaHoopa Unbound  Psychic    Dark       True    680  80   \n",
      "799  721              Volcanion     Fire   Water       True    600  80   \n",
      "\n",
      "     Attack  Defense  Sp. Atk  Sp. Def  Speed  Generation  \n",
      "0        49       49       65       65     45           1  \n",
      "1        62       63       80       80     60           1  \n",
      "2        82       83      100      100     80           1  \n",
      "3       100      123      122      120     80           1  \n",
      "4        52       43       60       50     65           1  \n",
      "..      ...      ...      ...      ...    ...         ...  \n",
      "795     100      150      100      150     50           6  \n",
      "796     160      110      160      110    110           6  \n",
      "797     110       60      150      130     70           6  \n",
      "798     160       60      170      130     80           6  \n",
      "799     110      120      130       90     70           6  \n",
      "\n",
      "[800 rows x 13 columns]\n"
     ]
    }
   ],
   "source": [
    "#Saving the new dataset as modified after columns rearrangement into diff format\n",
    "\n",
    "#df.to_csv('modified.csv',index = False)\n",
    "#df.to_excel('modified.xlsx' , index= False)\n",
    "#df.to_csv('modified.txt' , index= False, sep='\\t')"
   ]
  },
  {
   "cell_type": "code",
   "execution_count": 137,
   "id": "dca575bf-da05-4e23-b185-f804c379ecb6",
   "metadata": {},
   "outputs": [],
   "source": [
    "#Filtering:\n",
    "\n",
    "#df.head(5)\n",
    "#df.loc[(df['Type 1'] == 'Grass') & (df['Type 2'] == 'Poison')]\n",
    "\n"
   ]
  }
 ],
 "metadata": {
  "kernelspec": {
   "display_name": "Python 3 (ipykernel)",
   "language": "python",
   "name": "python3"
  },
  "language_info": {
   "codemirror_mode": {
    "name": "ipython",
    "version": 3
   },
   "file_extension": ".py",
   "mimetype": "text/x-python",
   "name": "python",
   "nbconvert_exporter": "python",
   "pygments_lexer": "ipython3",
   "version": "3.13.5"
  }
 },
 "nbformat": 4,
 "nbformat_minor": 5
}
