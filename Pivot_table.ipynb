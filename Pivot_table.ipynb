{
 "cells": [
  {
   "cell_type": "code",
   "execution_count": 96,
   "id": "f7fd8366-ec0d-495c-9aa2-31ae04af3479",
   "metadata": {},
   "outputs": [
    {
     "data": {
      "text/html": [
       "<div>\n",
       "<style scoped>\n",
       "    .dataframe tbody tr th:only-of-type {\n",
       "        vertical-align: middle;\n",
       "    }\n",
       "\n",
       "    .dataframe tbody tr th {\n",
       "        vertical-align: top;\n",
       "    }\n",
       "\n",
       "    .dataframe thead th {\n",
       "        text-align: right;\n",
       "    }\n",
       "</style>\n",
       "<table border=\"1\" class=\"dataframe\">\n",
       "  <thead>\n",
       "    <tr style=\"text-align: right;\">\n",
       "      <th></th>\n",
       "      <th>ID</th>\n",
       "      <th>Incentive</th>\n",
       "    </tr>\n",
       "  </thead>\n",
       "  <tbody>\n",
       "    <tr>\n",
       "      <th>0</th>\n",
       "      <td>1</td>\n",
       "      <td>500</td>\n",
       "    </tr>\n",
       "    <tr>\n",
       "      <th>1</th>\n",
       "      <td>2</td>\n",
       "      <td>200</td>\n",
       "    </tr>\n",
       "    <tr>\n",
       "      <th>2</th>\n",
       "      <td>3</td>\n",
       "      <td>100</td>\n",
       "    </tr>\n",
       "    <tr>\n",
       "      <th>3</th>\n",
       "      <td>4</td>\n",
       "      <td>500</td>\n",
       "    </tr>\n",
       "    <tr>\n",
       "      <th>4</th>\n",
       "      <td>5</td>\n",
       "      <td>400</td>\n",
       "    </tr>\n",
       "  </tbody>\n",
       "</table>\n",
       "</div>"
      ],
      "text/plain": [
       "   ID  Incentive\n",
       "0   1        500\n",
       "1   2        200\n",
       "2   3        100\n",
       "3   4        500\n",
       "4   5        400"
      ]
     },
     "execution_count": 96,
     "metadata": {},
     "output_type": "execute_result"
    }
   ],
   "source": [
    "import pandas as pd\n",
    "\n",
    "emp = pd.read_excel(r'C:\\Users\\imran\\Desktop\\MyData\\Python\\emp.xlsx')\n",
    "#dept = pd.read_excel(r'C:\\Users\\imran\\Desktop\\MyData\\Python\\dept.xlsx')\n",
    "#incentive = pd.read_excel(r'C:\\Users\\imran\\Desktop\\MyData\\Python\\incen.xlsx')\n",
    "\n",
    "incentive"
   ]
  },
  {
   "cell_type": "code",
   "execution_count": 97,
   "id": "68ec8473-6cbc-4ca4-86a1-020dab7ad78e",
   "metadata": {},
   "outputs": [
    {
     "name": "stdout",
     "output_type": "stream",
     "text": [
      "   Emp_ID    Name State       City  Salary    Status Designation Department  \\\n",
      "0       1   imran    JH    Dhanbad    5000    Active     Manager         HR   \n",
      "1       2   hamza    BH       Gaya    8820  Resigned     Manager        MKT   \n",
      "2       3   shama    KA  Bangalore    6987    Active     Manager         IT   \n",
      "3       4  afreen    AS  Dibrigarh    2014    Active   Associate        Fin   \n",
      "4       5   nahid    WB    Asansol    3658    Active       Sales      Sales   \n",
      "5       6   anaya    OR    Cuttack    9874    Active       Sales        Fin   \n",
      "6       7    juhi    PN     Ambala    5456    Active        Lead      Sales   \n",
      "7       8    sonu    UP     Kanpur    1214  Resigned        Head         HR   \n",
      "8       9    monu    MP     Bhopal    3256    Active   Executive        MKT   \n",
      "9      10   tinku    HP      Mandi    5698    Active   Associate         IT   \n",
      "\n",
      "        Dept  \n",
      "0         HR  \n",
      "1      Sales  \n",
      "2  Marketing  \n",
      "3         IT  \n",
      "4         IT  \n",
      "5         IT  \n",
      "6      Sales  \n",
      "7      Sales  \n",
      "8         HR  \n",
      "9      Sales  \n"
     ]
    }
   ],
   "source": [
    "m = emp.merge(dept, left_on='Emp_ID', right_on='ID', how = 'right').drop(columns ='ID').reset_index(drop = True)\n",
    "print(m)"
   ]
  },
  {
   "cell_type": "code",
   "execution_count": 69,
   "id": "1b444918-af51-47bf-887e-3d85404cd3e6",
   "metadata": {},
   "outputs": [
    {
     "data": {
      "text/html": [
       "<div>\n",
       "<style scoped>\n",
       "    .dataframe tbody tr th:only-of-type {\n",
       "        vertical-align: middle;\n",
       "    }\n",
       "\n",
       "    .dataframe tbody tr th {\n",
       "        vertical-align: top;\n",
       "    }\n",
       "\n",
       "    .dataframe thead th {\n",
       "        text-align: right;\n",
       "    }\n",
       "</style>\n",
       "<table border=\"1\" class=\"dataframe\">\n",
       "  <thead>\n",
       "    <tr style=\"text-align: right;\">\n",
       "      <th></th>\n",
       "      <th>Emp_ID</th>\n",
       "      <th>Name</th>\n",
       "      <th>Dept</th>\n",
       "    </tr>\n",
       "  </thead>\n",
       "  <tbody>\n",
       "    <tr>\n",
       "      <th>0</th>\n",
       "      <td>1</td>\n",
       "      <td>imran</td>\n",
       "      <td>HR</td>\n",
       "    </tr>\n",
       "  </tbody>\n",
       "</table>\n",
       "</div>"
      ],
      "text/plain": [
       "   Emp_ID   Name Dept\n",
       "0       1  imran   HR"
      ]
     },
     "execution_count": 69,
     "metadata": {},
     "output_type": "execute_result"
    }
   ],
   "source": [
    "m.loc[(m['Name'] =='imran')"
   ]
  },
  {
   "cell_type": "code",
   "execution_count": 81,
   "id": "a8c28f77-6cc5-4025-a763-3fd235685958",
   "metadata": {},
   "outputs": [
    {
     "name": "stdout",
     "output_type": "stream",
     "text": [
      "          Name       Dept  Incentive\n",
      "Emp_ID                              \n",
      "1        imran         HR      500.0\n",
      "2        hamza      Sales      200.0\n",
      "3        shama  Marketing      100.0\n",
      "4       afreen         IT      500.0\n",
      "5        nahid         IT      400.0\n",
      "6        anaya         IT        NaN\n",
      "7         juhi      Sales        NaN\n",
      "8         sonu      Sales        NaN\n",
      "9         monu         HR        NaN\n",
      "10       tinku      Sales        NaN\n"
     ]
    }
   ],
   "source": [
    "m1=m.merge(incentive, left_on = 'Emp_ID', right_on = 'ID', how = 'left').drop(columns = 'ID').set_index('Emp_ID')\n",
    "print(m1)"
   ]
  },
  {
   "cell_type": "code",
   "execution_count": 94,
   "id": "9c2081aa-01d7-45ef-960b-05bfa7e4ac9c",
   "metadata": {},
   "outputs": [
    {
     "name": "stdout",
     "output_type": "stream",
     "text": [
      "   Emp_ID    Name    ID       Dept\n",
      "0     1.0   imran   NaN        NaN\n",
      "1     2.0   hamza   NaN        NaN\n",
      "2     3.0   shama   NaN        NaN\n",
      "3     4.0  afreen   NaN        NaN\n",
      "4     5.0   nahid   NaN        NaN\n",
      "5     6.0   anaya   NaN        NaN\n",
      "6     7.0    juhi   NaN        NaN\n",
      "7     8.0    sonu   NaN        NaN\n",
      "8     9.0    monu   NaN        NaN\n",
      "9    10.0   tinku   NaN        NaN\n",
      "0     NaN     NaN   1.0         HR\n",
      "1     NaN     NaN   2.0      Sales\n",
      "2     NaN     NaN   3.0  Marketing\n",
      "3     NaN     NaN   4.0         IT\n",
      "4     NaN     NaN   5.0         IT\n",
      "5     NaN     NaN   6.0         IT\n",
      "6     NaN     NaN   7.0      Sales\n",
      "7     NaN     NaN   8.0      Sales\n",
      "8     NaN     NaN   9.0         HR\n",
      "9     NaN     NaN  10.0      Sales\n"
     ]
    }
   ],
   "source": [
    "c=pd.concat([emp,dept],axis=0)\n",
    "print(c)"
   ]
  },
  {
   "cell_type": "code",
   "execution_count": 95,
   "id": "a7f5e7c8-0e55-4138-96b1-e9650a86b7b3",
   "metadata": {},
   "outputs": [
    {
     "name": "stdout",
     "output_type": "stream",
     "text": [
      "   Emp_ID    Name  ID       Dept\n",
      "0       1   imran   1         HR\n",
      "1       2   hamza   2      Sales\n",
      "2       3   shama   3  Marketing\n",
      "3       4  afreen   4         IT\n",
      "4       5   nahid   5         IT\n",
      "5       6   anaya   6         IT\n",
      "6       7    juhi   7      Sales\n",
      "7       8    sonu   8      Sales\n",
      "8       9    monu   9         HR\n",
      "9      10   tinku  10      Sales\n"
     ]
    }
   ],
   "source": [
    "c=pd.concat([emp,dept],axis=1)\n",
    "print(c)"
   ]
  },
  {
   "cell_type": "code",
   "execution_count": 107,
   "id": "584d05da-3142-4442-80b9-fa8c73785920",
   "metadata": {},
   "outputs": [
    {
     "name": "stdout",
     "output_type": "stream",
     "text": [
      "Status      Active  Resigned\n",
      "Department                  \n",
      "Fin            2.0       NaN\n",
      "HR             1.0       1.0\n",
      "IT             2.0       NaN\n",
      "MKT            1.0       1.0\n",
      "Sales          2.0       NaN\n"
     ]
    }
   ],
   "source": [
    "x= emp.pivot_table(index = 'Department', columns = 'Status',values = 'Emp_ID',aggfunc = 'count')\n",
    "print(x)"
   ]
  },
  {
   "cell_type": "code",
   "execution_count": 120,
   "id": "1709457b-4f32-441e-9b61-4b16edccba50",
   "metadata": {},
   "outputs": [
    {
     "name": "stdout",
     "output_type": "stream",
     "text": [
      "                       count                                               \\\n",
      "Emp_ID                    1    2    3    4    5    6    7    8    9    10   \n",
      "Department Designation                                                      \n",
      "Fin        Associate     NaN  NaN  NaN  1.0  NaN  NaN  NaN  NaN  NaN  NaN   \n",
      "           Sales         NaN  NaN  NaN  NaN  NaN  1.0  NaN  NaN  NaN  NaN   \n",
      "HR         Head          NaN  NaN  NaN  NaN  NaN  NaN  NaN  1.0  NaN  NaN   \n",
      "           Manager       1.0  NaN  NaN  NaN  NaN  NaN  NaN  NaN  NaN  NaN   \n",
      "IT         Associate     NaN  NaN  NaN  NaN  NaN  NaN  NaN  NaN  NaN  1.0   \n",
      "           Manager       NaN  NaN  1.0  NaN  NaN  NaN  NaN  NaN  NaN  NaN   \n",
      "MKT        Executive     NaN  NaN  NaN  NaN  NaN  NaN  NaN  NaN  1.0  NaN   \n",
      "           Manager       NaN  1.0  NaN  NaN  NaN  NaN  NaN  NaN  NaN  NaN   \n",
      "Sales      Lead          NaN  NaN  NaN  NaN  NaN  NaN  1.0  NaN  NaN  NaN   \n",
      "           Sales         NaN  NaN  NaN  NaN  1.0  NaN  NaN  NaN  NaN  NaN   \n",
      "\n",
      "                        ...     sum                                          \\\n",
      "Emp_ID                  ...      1       2       3       4       5       6    \n",
      "Department Designation  ...                                                   \n",
      "Fin        Associate    ...     NaN     NaN     NaN  2014.0     NaN     NaN   \n",
      "           Sales        ...     NaN     NaN     NaN     NaN     NaN  9874.0   \n",
      "HR         Head         ...     NaN     NaN     NaN     NaN     NaN     NaN   \n",
      "           Manager      ...  5000.0     NaN     NaN     NaN     NaN     NaN   \n",
      "IT         Associate    ...     NaN     NaN     NaN     NaN     NaN     NaN   \n",
      "           Manager      ...     NaN     NaN  6987.0     NaN     NaN     NaN   \n",
      "MKT        Executive    ...     NaN     NaN     NaN     NaN     NaN     NaN   \n",
      "           Manager      ...     NaN  8820.0     NaN     NaN     NaN     NaN   \n",
      "Sales      Lead         ...     NaN     NaN     NaN     NaN     NaN     NaN   \n",
      "           Sales        ...     NaN     NaN     NaN     NaN  3658.0     NaN   \n",
      "\n",
      "                                                        \n",
      "Emp_ID                      7       8       9       10  \n",
      "Department Designation                                  \n",
      "Fin        Associate       NaN     NaN     NaN     NaN  \n",
      "           Sales           NaN     NaN     NaN     NaN  \n",
      "HR         Head            NaN  1214.0     NaN     NaN  \n",
      "           Manager         NaN     NaN     NaN     NaN  \n",
      "IT         Associate       NaN     NaN     NaN  5698.0  \n",
      "           Manager         NaN     NaN     NaN     NaN  \n",
      "MKT        Executive       NaN     NaN  3256.0     NaN  \n",
      "           Manager         NaN     NaN     NaN     NaN  \n",
      "Sales      Lead         5456.0     NaN     NaN     NaN  \n",
      "           Sales           NaN     NaN     NaN     NaN  \n",
      "\n",
      "[10 rows x 30 columns]\n"
     ]
    }
   ],
   "source": [
    "x= emp.pivot_table(index = ['Department','Designation'], columns = 'Emp_ID',values = 'Salary',aggfunc=['count','mean','sum'])\n",
    "print(x)"
   ]
  },
  {
   "cell_type": "code",
   "execution_count": 122,
   "id": "65d1a33e-d001-4e93-91ca-34d6035cf8de",
   "metadata": {},
   "outputs": [
    {
     "data": {
      "text/html": [
       "<div>\n",
       "<style scoped>\n",
       "    .dataframe tbody tr th:only-of-type {\n",
       "        vertical-align: middle;\n",
       "    }\n",
       "\n",
       "    .dataframe tbody tr th {\n",
       "        vertical-align: top;\n",
       "    }\n",
       "\n",
       "    .dataframe thead th {\n",
       "        text-align: right;\n",
       "    }\n",
       "</style>\n",
       "<table border=\"1\" class=\"dataframe\">\n",
       "  <thead>\n",
       "    <tr style=\"text-align: right;\">\n",
       "      <th></th>\n",
       "      <th>Salary</th>\n",
       "    </tr>\n",
       "    <tr>\n",
       "      <th>Department</th>\n",
       "      <th></th>\n",
       "    </tr>\n",
       "  </thead>\n",
       "  <tbody>\n",
       "    <tr>\n",
       "      <th>Fin</th>\n",
       "      <td>11888</td>\n",
       "    </tr>\n",
       "    <tr>\n",
       "      <th>HR</th>\n",
       "      <td>6214</td>\n",
       "    </tr>\n",
       "    <tr>\n",
       "      <th>IT</th>\n",
       "      <td>12685</td>\n",
       "    </tr>\n",
       "    <tr>\n",
       "      <th>MKT</th>\n",
       "      <td>12076</td>\n",
       "    </tr>\n",
       "    <tr>\n",
       "      <th>Sales</th>\n",
       "      <td>9114</td>\n",
       "    </tr>\n",
       "  </tbody>\n",
       "</table>\n",
       "</div>"
      ],
      "text/plain": [
       "            Salary\n",
       "Department        \n",
       "Fin          11888\n",
       "HR            6214\n",
       "IT           12685\n",
       "MKT          12076\n",
       "Sales         9114"
      ]
     },
     "execution_count": 122,
     "metadata": {},
     "output_type": "execute_result"
    }
   ],
   "source": [
    "emp.pivot_table(index = 'Department', values ='Salary', aggfunc = 'sum')"
   ]
  },
  {
   "cell_type": "code",
   "execution_count": 125,
   "id": "c12e7cf2-5690-4318-a03b-b13f1cbb9d90",
   "metadata": {},
   "outputs": [
    {
     "data": {
      "text/html": [
       "<div>\n",
       "<style scoped>\n",
       "    .dataframe tbody tr th:only-of-type {\n",
       "        vertical-align: middle;\n",
       "    }\n",
       "\n",
       "    .dataframe tbody tr th {\n",
       "        vertical-align: top;\n",
       "    }\n",
       "\n",
       "    .dataframe thead th {\n",
       "        text-align: right;\n",
       "    }\n",
       "</style>\n",
       "<table border=\"1\" class=\"dataframe\">\n",
       "  <thead>\n",
       "    <tr style=\"text-align: right;\">\n",
       "      <th></th>\n",
       "      <th>Salary</th>\n",
       "    </tr>\n",
       "    <tr>\n",
       "      <th>Designation</th>\n",
       "      <th></th>\n",
       "    </tr>\n",
       "  </thead>\n",
       "  <tbody>\n",
       "    <tr>\n",
       "      <th>Associate</th>\n",
       "      <td>3856.000000</td>\n",
       "    </tr>\n",
       "    <tr>\n",
       "      <th>Executive</th>\n",
       "      <td>3256.000000</td>\n",
       "    </tr>\n",
       "    <tr>\n",
       "      <th>Head</th>\n",
       "      <td>1214.000000</td>\n",
       "    </tr>\n",
       "    <tr>\n",
       "      <th>Lead</th>\n",
       "      <td>5456.000000</td>\n",
       "    </tr>\n",
       "    <tr>\n",
       "      <th>Manager</th>\n",
       "      <td>6935.666667</td>\n",
       "    </tr>\n",
       "    <tr>\n",
       "      <th>Sales</th>\n",
       "      <td>6766.000000</td>\n",
       "    </tr>\n",
       "  </tbody>\n",
       "</table>\n",
       "</div>"
      ],
      "text/plain": [
       "                  Salary\n",
       "Designation             \n",
       "Associate    3856.000000\n",
       "Executive    3256.000000\n",
       "Head         1214.000000\n",
       "Lead         5456.000000\n",
       "Manager      6935.666667\n",
       "Sales        6766.000000"
      ]
     },
     "execution_count": 125,
     "metadata": {},
     "output_type": "execute_result"
    }
   ],
   "source": [
    "emp.pivot_table(index = 'Designation', values ='Salary', aggfunc = 'mean')"
   ]
  },
  {
   "cell_type": "code",
   "execution_count": 129,
   "id": "1a487411-75e1-433b-9dd0-da9c26f900c4",
   "metadata": {},
   "outputs": [
    {
     "name": "stderr",
     "output_type": "stream",
     "text": [
      "C:\\Users\\imran\\AppData\\Local\\Temp\\ipykernel_8552\\1347830308.py:1: FutureWarning: Downcasting object dtype arrays on .fillna, .ffill, .bfill is deprecated and will change in a future version. Call result.infer_objects(copy=False) instead. To opt-in to the future behavior, set `pd.set_option('future.no_silent_downcasting', True)`\n",
      "  emp.pivot_table(index = 'Department', columns = 'Status',values ='Emp_ID', aggfunc = 'count', fill_value ='NA')\n"
     ]
    },
    {
     "data": {
      "text/html": [
       "<div>\n",
       "<style scoped>\n",
       "    .dataframe tbody tr th:only-of-type {\n",
       "        vertical-align: middle;\n",
       "    }\n",
       "\n",
       "    .dataframe tbody tr th {\n",
       "        vertical-align: top;\n",
       "    }\n",
       "\n",
       "    .dataframe thead th {\n",
       "        text-align: right;\n",
       "    }\n",
       "</style>\n",
       "<table border=\"1\" class=\"dataframe\">\n",
       "  <thead>\n",
       "    <tr style=\"text-align: right;\">\n",
       "      <th>Status</th>\n",
       "      <th>Active</th>\n",
       "      <th>Resigned</th>\n",
       "    </tr>\n",
       "    <tr>\n",
       "      <th>Department</th>\n",
       "      <th></th>\n",
       "      <th></th>\n",
       "    </tr>\n",
       "  </thead>\n",
       "  <tbody>\n",
       "    <tr>\n",
       "      <th>Fin</th>\n",
       "      <td>2</td>\n",
       "      <td>NA</td>\n",
       "    </tr>\n",
       "    <tr>\n",
       "      <th>HR</th>\n",
       "      <td>1</td>\n",
       "      <td>1</td>\n",
       "    </tr>\n",
       "    <tr>\n",
       "      <th>IT</th>\n",
       "      <td>2</td>\n",
       "      <td>NA</td>\n",
       "    </tr>\n",
       "    <tr>\n",
       "      <th>MKT</th>\n",
       "      <td>1</td>\n",
       "      <td>1</td>\n",
       "    </tr>\n",
       "    <tr>\n",
       "      <th>Sales</th>\n",
       "      <td>2</td>\n",
       "      <td>NA</td>\n",
       "    </tr>\n",
       "  </tbody>\n",
       "</table>\n",
       "</div>"
      ],
      "text/plain": [
       "Status      Active Resigned\n",
       "Department                 \n",
       "Fin              2       NA\n",
       "HR               1        1\n",
       "IT               2       NA\n",
       "MKT              1        1\n",
       "Sales            2       NA"
      ]
     },
     "execution_count": 129,
     "metadata": {},
     "output_type": "execute_result"
    }
   ],
   "source": [
    "emp.pivot_table(index = 'Department', columns = 'Status',values ='Emp_ID', aggfunc = 'count', fill_value ='NA')"
   ]
  },
  {
   "cell_type": "code",
   "execution_count": 131,
   "id": "3f2b3dd8-55ed-497d-8f1a-c6f544122f39",
   "metadata": {},
   "outputs": [
    {
     "data": {
      "text/html": [
       "<div>\n",
       "<style scoped>\n",
       "    .dataframe tbody tr th:only-of-type {\n",
       "        vertical-align: middle;\n",
       "    }\n",
       "\n",
       "    .dataframe tbody tr th {\n",
       "        vertical-align: top;\n",
       "    }\n",
       "\n",
       "    .dataframe thead th {\n",
       "        text-align: right;\n",
       "    }\n",
       "</style>\n",
       "<table border=\"1\" class=\"dataframe\">\n",
       "  <thead>\n",
       "    <tr style=\"text-align: right;\">\n",
       "      <th>Designation</th>\n",
       "      <th>Associate</th>\n",
       "      <th>Executive</th>\n",
       "      <th>Head</th>\n",
       "      <th>Lead</th>\n",
       "      <th>Manager</th>\n",
       "      <th>Sales</th>\n",
       "      <th>All</th>\n",
       "    </tr>\n",
       "    <tr>\n",
       "      <th>Department</th>\n",
       "      <th></th>\n",
       "      <th></th>\n",
       "      <th></th>\n",
       "      <th></th>\n",
       "      <th></th>\n",
       "      <th></th>\n",
       "      <th></th>\n",
       "    </tr>\n",
       "  </thead>\n",
       "  <tbody>\n",
       "    <tr>\n",
       "      <th>Fin</th>\n",
       "      <td>2014</td>\n",
       "      <td>0</td>\n",
       "      <td>0</td>\n",
       "      <td>0</td>\n",
       "      <td>0</td>\n",
       "      <td>9874</td>\n",
       "      <td>11888</td>\n",
       "    </tr>\n",
       "    <tr>\n",
       "      <th>HR</th>\n",
       "      <td>0</td>\n",
       "      <td>0</td>\n",
       "      <td>1214</td>\n",
       "      <td>0</td>\n",
       "      <td>5000</td>\n",
       "      <td>0</td>\n",
       "      <td>6214</td>\n",
       "    </tr>\n",
       "    <tr>\n",
       "      <th>IT</th>\n",
       "      <td>5698</td>\n",
       "      <td>0</td>\n",
       "      <td>0</td>\n",
       "      <td>0</td>\n",
       "      <td>6987</td>\n",
       "      <td>0</td>\n",
       "      <td>12685</td>\n",
       "    </tr>\n",
       "    <tr>\n",
       "      <th>MKT</th>\n",
       "      <td>0</td>\n",
       "      <td>3256</td>\n",
       "      <td>0</td>\n",
       "      <td>0</td>\n",
       "      <td>8820</td>\n",
       "      <td>0</td>\n",
       "      <td>12076</td>\n",
       "    </tr>\n",
       "    <tr>\n",
       "      <th>Sales</th>\n",
       "      <td>0</td>\n",
       "      <td>0</td>\n",
       "      <td>0</td>\n",
       "      <td>5456</td>\n",
       "      <td>0</td>\n",
       "      <td>3658</td>\n",
       "      <td>9114</td>\n",
       "    </tr>\n",
       "    <tr>\n",
       "      <th>All</th>\n",
       "      <td>7712</td>\n",
       "      <td>3256</td>\n",
       "      <td>1214</td>\n",
       "      <td>5456</td>\n",
       "      <td>20807</td>\n",
       "      <td>13532</td>\n",
       "      <td>51977</td>\n",
       "    </tr>\n",
       "  </tbody>\n",
       "</table>\n",
       "</div>"
      ],
      "text/plain": [
       "Designation  Associate  Executive  Head  Lead  Manager  Sales    All\n",
       "Department                                                          \n",
       "Fin               2014          0     0     0        0   9874  11888\n",
       "HR                   0          0  1214     0     5000      0   6214\n",
       "IT                5698          0     0     0     6987      0  12685\n",
       "MKT                  0       3256     0     0     8820      0  12076\n",
       "Sales                0          0     0  5456        0   3658   9114\n",
       "All               7712       3256  1214  5456    20807  13532  51977"
      ]
     },
     "execution_count": 131,
     "metadata": {},
     "output_type": "execute_result"
    }
   ],
   "source": [
    "emp.pivot_table(index = 'Department', columns = 'Designation',values ='Salary', aggfunc = 'sum', fill_value =0, margins =True)"
   ]
  },
  {
   "cell_type": "code",
   "execution_count": null,
   "id": "b8748ccc-fca1-44ba-a971-3daa882bd579",
   "metadata": {},
   "outputs": [],
   "source": []
  }
 ],
 "metadata": {
  "kernelspec": {
   "display_name": "Python 3 (ipykernel)",
   "language": "python",
   "name": "python3"
  },
  "language_info": {
   "codemirror_mode": {
    "name": "ipython",
    "version": 3
   },
   "file_extension": ".py",
   "mimetype": "text/x-python",
   "name": "python",
   "nbconvert_exporter": "python",
   "pygments_lexer": "ipython3",
   "version": "3.13.5"
  }
 },
 "nbformat": 4,
 "nbformat_minor": 5
}
